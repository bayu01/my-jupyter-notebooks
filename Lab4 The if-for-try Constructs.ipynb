{
 "cells": [
  {
   "cell_type": "code",
   "execution_count": 1,
   "metadata": {},
   "outputs": [
    {
     "name": "stdout",
     "output_type": "stream",
     "text": [
      "\n",
      "Processing number:  -2\n",
      "* I do not see outside my scope:  -2\n",
      "\n",
      "Processing number:  -1\n",
      "* I do not see outside my scope:  -1\n",
      "\n",
      "Processing number:  0\n",
      "* I do not see outside my scope:  0\n",
      "\n",
      "Processing number:  1\n",
      "* The number was 1\n",
      "\n",
      "Processing number:  2\n",
      "* The number of 2\n",
      "\n",
      "Processing number:  3\n",
      "* The number was 3\n",
      "\n",
      "Processing number:  4\n",
      "* I do not see outside my scope:  4\n"
     ]
    }
   ],
   "source": [
    "for x in range (-2,5,1):\n",
    "    print ('\\nProcessing number: ',x)\n",
    "    if (x < 1) or (x > 3):\n",
    "        print ('* I do not see outside my scope: ',x)\n",
    "    elif x == 1:\n",
    "        print ('* The number was 1')\n",
    "    elif x == 2:\n",
    "        print ('* The number of 2')\n",
    "    else:\n",
    "        print ('* The number was 3')"
   ]
  },
  {
   "cell_type": "code",
   "execution_count": 5,
   "metadata": {},
   "outputs": [
    {
     "name": "stdout",
     "output_type": "stream",
     "text": [
      "\n",
      "Party of:  0\n",
      "Exception integer division or modulo by zero of type <class 'ZeroDivisionError'>\n",
      "Continuing ...\n",
      "\n",
      "Party of:  1\n",
      "Everyone gets 6 piece(s)\n",
      "Continuing ...\n",
      "\n",
      "Party of:  2\n",
      "Everyone gets 3 piece(s)\n",
      "Continuing ...\n",
      "\n",
      "Party of:  3\n",
      "Everyone gets 2 piece(s)\n",
      "Continuing ...\n",
      "\n",
      "Party of:  4\n",
      "Exception The max party size of 3 been exceeded of type <class 'AssertionError'>\n",
      "Continuing ...\n",
      "\n",
      "Party of:  5\n",
      "Exception The max party size of 3 been exceeded of type <class 'AssertionError'>\n",
      "Continuing ...\n",
      "\n",
      "Come again!\n"
     ]
    }
   ],
   "source": [
    "pizza_pieces = 6\n",
    "max_party_size = 3\n",
    "\n",
    "for people in range(6):\n",
    "    print ('\\nParty of: ', people)\n",
    "    \n",
    "    try:\n",
    "        \n",
    "#         if people >  max_party_size:\n",
    "#             raise Exception(f\"The max party size of {max_party_size} been exceeded!\")\n",
    "        assert people <= max_party_size, f\"The max party size of {max_party_size} been exceeded\"    \n",
    "        pieces_per_person = pizza_pieces // people  #int(pizza_pieces / people)\n",
    "\n",
    "    except Exception as e:\n",
    "#       print('Exception: ', e)\n",
    "      print(f'Exception {e} of type {type(e)}')\n",
    "    else:\n",
    "        print ('Everyone gets {} piece(s)'.format(pieces_per_person))\n",
    "        \n",
    "    finally:\n",
    "        print ('Continuing ...')\n",
    "\n",
    "print ('\\nCome again!') "
   ]
  },
  {
   "cell_type": "code",
   "execution_count": null,
   "metadata": {},
   "outputs": [],
   "source": []
  }
 ],
 "metadata": {
  "kernelspec": {
   "display_name": "Python 3",
   "language": "python",
   "name": "python3"
  },
  "language_info": {
   "codemirror_mode": {
    "name": "ipython",
    "version": 3
   },
   "file_extension": ".py",
   "mimetype": "text/x-python",
   "name": "python",
   "nbconvert_exporter": "python",
   "pygments_lexer": "ipython3",
   "version": "3.7.4"
  }
 },
 "nbformat": 4,
 "nbformat_minor": 2
}
