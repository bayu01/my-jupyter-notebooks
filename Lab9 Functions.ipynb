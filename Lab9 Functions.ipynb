{
 "cells": [
  {
   "cell_type": "code",
   "execution_count": 1,
   "metadata": {},
   "outputs": [],
   "source": [
    "def sales_report(year, gross_revenue, sales_channel):\n",
    "    '''Award-winning sales report by\n",
    "            Acme Inc.'''\n",
    "    print (year, gross_revenue, sales_channel)\n",
    "    return f'The report for {sales_channel} / {year} published'"
   ]
  },
  {
   "cell_type": "code",
   "execution_count": 2,
   "metadata": {},
   "outputs": [
    {
     "name": "stdout",
     "output_type": "stream",
     "text": [
      "2020 9999999 'on-line'\n"
     ]
    },
    {
     "data": {
      "text/plain": [
       "\"The report for 'on-line' / 2020 published\""
      ]
     },
     "execution_count": 2,
     "metadata": {},
     "output_type": "execute_result"
    }
   ],
   "source": [
    "sales_report(2020, 9_999_999, \"'on-line'\")"
   ]
  },
  {
   "cell_type": "code",
   "execution_count": 3,
   "metadata": {},
   "outputs": [
    {
     "name": "stdout",
     "output_type": "stream",
     "text": [
      "Help on function sales_report in module __main__:\n",
      "\n",
      "sales_report(year, gross_revenue, sales_channel)\n",
      "    Award-winning sales report by\n",
      "    Acme Inc.\n",
      "\n"
     ]
    }
   ],
   "source": [
    "help(sales_report)"
   ]
  },
  {
   "cell_type": "code",
   "execution_count": 4,
   "metadata": {},
   "outputs": [
    {
     "name": "stdout",
     "output_type": "stream",
     "text": [
      "2020 9999999 'on-line'\n"
     ]
    },
    {
     "data": {
      "text/plain": [
       "\"The report for 'on-line' / 2020 published\""
      ]
     },
     "execution_count": 4,
     "metadata": {},
     "output_type": "execute_result"
    }
   ],
   "source": [
    "sales_report(gross_revenue=9_999_999,sales_channel=\"'on-line'\",year=2020)"
   ]
  },
  {
   "cell_type": "code",
   "execution_count": 5,
   "metadata": {},
   "outputs": [],
   "source": [
    "def sales_report2(gross_revenue, year = 2021, sales_channel = \"'retail'\"):\n",
    "    print (year, gross_revenue, sales_channel)\n",
    "    return f'The report for {sales_channel} / {year} published'"
   ]
  },
  {
   "cell_type": "code",
   "execution_count": 6,
   "metadata": {},
   "outputs": [
    {
     "name": "stdout",
     "output_type": "stream",
     "text": [
      "2021 111 'retail'\n"
     ]
    },
    {
     "data": {
      "text/plain": [
       "\"The report for 'retail' / 2021 published\""
      ]
     },
     "execution_count": 6,
     "metadata": {},
     "output_type": "execute_result"
    }
   ],
   "source": [
    "sales_report2(111)"
   ]
  },
  {
   "cell_type": "code",
   "execution_count": 17,
   "metadata": {},
   "outputs": [],
   "source": [
    "def sales_report3(* p):\n",
    "    for i in p:\n",
    "        print (i)\n",
    "        print(locals())\n",
    "    print (p[0], p[1], p[2])"
   ]
  },
  {
   "cell_type": "code",
   "execution_count": 18,
   "metadata": {},
   "outputs": [
    {
     "name": "stdout",
     "output_type": "stream",
     "text": [
      "2020\n",
      "{'p': (2020, 9999999, \"'on-line'\"), 'i': 2020}\n",
      "9999999\n",
      "{'p': (2020, 9999999, \"'on-line'\"), 'i': 9999999}\n",
      "'on-line'\n",
      "{'p': (2020, 9999999, \"'on-line'\"), 'i': \"'on-line'\"}\n",
      "2020 9999999 'on-line'\n"
     ]
    }
   ],
   "source": [
    "sales_report3(2020,9_999_999,\"'on-line'\")"
   ]
  },
  {
   "cell_type": "code",
   "execution_count": 22,
   "metadata": {},
   "outputs": [],
   "source": [
    "def sales_report4(**kw):   # the common name is ** kw - keyword\n",
    "    year = kw['year']\n",
    "    gross_revenue = kw['gross_revenue']\n",
    "    sales_channel = kw.get('sales_channel', \"'retail'\")\n",
    "    print (year, gross_revenue, sales_channel)\n",
    "    return (year, gross_revenue, sales_channel)"
   ]
  },
  {
   "cell_type": "code",
   "execution_count": 23,
   "metadata": {},
   "outputs": [
    {
     "name": "stdout",
     "output_type": "stream",
     "text": [
      "2021 0.1 'on-line'\n"
     ]
    },
    {
     "data": {
      "text/plain": [
       "(2021, 0.1, \"'on-line'\")"
      ]
     },
     "execution_count": 23,
     "metadata": {},
     "output_type": "execute_result"
    }
   ],
   "source": [
    "sales_report4(gross_revenue=0.1, year=2021, sales_channel=\"'on-line'\")"
   ]
  },
  {
   "cell_type": "raw",
   "metadata": {},
   "source": []
  },
  {
   "cell_type": "code",
   "execution_count": 28,
   "metadata": {},
   "outputs": [
    {
     "name": "stdout",
     "output_type": "stream",
     "text": [
      "2021 0.1 'on-line'\n",
      "2021\n",
      "0.1\n",
      "'on-line'\n"
     ]
    }
   ],
   "source": [
    "year, gross_revenue, sales_channel = sales_report4(gross_revenue=0.1, year=2021, sales_channel=\"'on-line'\")\n",
    "print(year)\n",
    "print(gross_revenue)\n",
    "print(sales_channel)"
   ]
  },
  {
   "cell_type": "code",
   "execution_count": 29,
   "metadata": {},
   "outputs": [
    {
     "data": {
      "text/plain": [
       "True"
      ]
     },
     "execution_count": 29,
     "metadata": {},
     "output_type": "execute_result"
    }
   ],
   "source": [
    "globals()==locals()"
   ]
  },
  {
   "cell_type": "code",
   "execution_count": 30,
   "metadata": {},
   "outputs": [
    {
     "data": {
      "text/plain": [
       "dict"
      ]
     },
     "execution_count": 30,
     "metadata": {},
     "output_type": "execute_result"
    }
   ],
   "source": [
    "type(globals())"
   ]
  },
  {
   "cell_type": "code",
   "execution_count": 41,
   "metadata": {},
   "outputs": [
    {
     "name": "stdout",
     "output_type": "stream",
     "text": [
      "120\n"
     ]
    }
   ],
   "source": [
    "n = 5\n",
    "n_fact = 1\n",
    "for x in range(1,n + 1):\n",
    "     n_fact *= x   # a short-hand for n_fact = n_fact * x\n",
    "print (n_fact)"
   ]
  },
  {
   "cell_type": "code",
   "execution_count": 32,
   "metadata": {},
   "outputs": [],
   "source": [
    "def fact (n):\n",
    "    if n == 1:\n",
    "        return 1\n",
    "    return n * fact (n -1)"
   ]
  },
  {
   "cell_type": "code",
   "execution_count": 42,
   "metadata": {},
   "outputs": [
    {
     "name": "stdout",
     "output_type": "stream",
     "text": [
      "Wall time: 0 ns\n"
     ]
    },
    {
     "data": {
      "text/plain": [
       "120"
      ]
     },
     "execution_count": 42,
     "metadata": {},
     "output_type": "execute_result"
    }
   ],
   "source": [
    "fact(5)"
   ]
  },
  {
   "cell_type": "code",
   "execution_count": 35,
   "metadata": {},
   "outputs": [],
   "source": []
  },
  {
   "cell_type": "code",
   "execution_count": null,
   "metadata": {},
   "outputs": [],
   "source": []
  }
 ],
 "metadata": {
  "kernelspec": {
   "display_name": "Python 3",
   "language": "python",
   "name": "python3"
  },
  "language_info": {
   "codemirror_mode": {
    "name": "ipython",
    "version": 3
   },
   "file_extension": ".py",
   "mimetype": "text/x-python",
   "name": "python",
   "nbconvert_exporter": "python",
   "pygments_lexer": "ipython3",
   "version": "3.7.4"
  }
 },
 "nbformat": 4,
 "nbformat_minor": 2
}
